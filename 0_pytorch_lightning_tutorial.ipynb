{
 "cells": [
  {
   "cell_type": "code",
   "execution_count": 1,
   "id": "0e287d54-88cf-4daa-91b1-0ed4af79ea8f",
   "metadata": {},
   "outputs": [],
   "source": [
    "## Load Libs"
   ]
  },
  {
   "cell_type": "code",
   "execution_count": 2,
   "id": "8ffe0f94-4c4c-461e-b48e-d8aa760cc500",
   "metadata": {
    "collapsed": true,
    "jupyter": {
     "outputs_hidden": true
    },
    "tags": []
   },
   "outputs": [
    {
     "name": "stdout",
     "output_type": "stream",
     "text": [
      "Collecting package metadata (current_repodata.json): done\n",
      "Solving environment: done\n",
      "\n",
      "## Package Plan ##\n",
      "\n",
      "  environment location: /opt/conda/envs/computer_vision\n",
      "\n",
      "  added / updated specs:\n",
      "    - iprogress\n",
      "\n",
      "\n",
      "The following packages will be downloaded:\n",
      "\n",
      "    package                    |            build\n",
      "    ---------------------------|-----------------\n",
      "    certifi-2021.10.8          |   py38h578d9bd_1         145 KB  conda-forge\n",
      "    iprogress-0.4              |             py_0          12 KB  conda-forge\n",
      "    ------------------------------------------------------------\n",
      "                                           Total:         157 KB\n",
      "\n",
      "The following NEW packages will be INSTALLED:\n",
      "\n",
      "  iprogress          conda-forge/noarch::iprogress-0.4-py_0\n",
      "\n",
      "The following packages will be UPDATED:\n",
      "\n",
      "  certifi                          2021.10.8-py38h578d9bd_0 --> 2021.10.8-py38h578d9bd_1\n",
      "\n",
      "\n",
      "\n",
      "Downloading and Extracting Packages\n",
      "iprogress-0.4        | 12 KB     | ##################################### | 100% \n",
      "certifi-2021.10.8    | 145 KB    | ##################################### | 100% \n",
      "Preparing transaction: done\n",
      "Verifying transaction: done\n",
      "Executing transaction: done\n"
     ]
    }
   ],
   "source": [
    "# extra install\n",
    "!conda install -y IProgress"
   ]
  },
  {
   "cell_type": "code",
   "execution_count": 18,
   "id": "1ddb1e63-4851-4612-8aa6-f4cec3da77a3",
   "metadata": {},
   "outputs": [],
   "source": [
    "import os\n",
    "\n",
    "import torch\n",
    "import torch.nn as nn\n",
    "import torch.nn.functional as F\n",
    "import torchvision\n",
    "from pl_bolts.datamodules import CIFAR10DataModule\n",
    "from pl_bolts.transforms.dataset_normalizations import cifar10_normalization\n",
    "from pytorch_lightning import LightningModule, seed_everything, Trainer\n",
    "from pytorch_lightning.callbacks import LearningRateMonitor\n",
    "from pytorch_lightning.loggers import TensorBoardLogger\n",
    "from torch.optim.lr_scheduler import OneCycleLR\n",
    "from torch.optim.swa_utils import AveragedModel, update_bn\n",
    "from torchmetrics.functional import accuracy"
   ]
  },
  {
   "cell_type": "code",
   "execution_count": 4,
   "id": "7da12094-4dfd-4f24-9e1d-9cd2eef8ed50",
   "metadata": {},
   "outputs": [
    {
     "name": "stderr",
     "output_type": "stream",
     "text": [
      "Global seed set to 7\n"
     ]
    },
    {
     "data": {
      "text/plain": [
       "7"
      ]
     },
     "execution_count": 4,
     "metadata": {},
     "output_type": "execute_result"
    }
   ],
   "source": [
    "seed_everything(7)"
   ]
  },
  {
   "cell_type": "code",
   "execution_count": 6,
   "id": "4e9c4373-c501-4422-97d2-d98304e40daf",
   "metadata": {},
   "outputs": [],
   "source": [
    "PATH_DATASETS = os.environ.get('PATH_DATASETS', '.')\n",
    "AVAIL_GPUS = min(1, torch.cuda.device_count())\n",
    "BATCH_SIZE = 256 if AVAIL_GPUS else 64\n",
    "NUM_WORKERS = int(os.cpu_count() / 2)"
   ]
  },
  {
   "cell_type": "code",
   "execution_count": 16,
   "id": "1074cf88-66e9-43c3-80a4-3cfe61a1baf0",
   "metadata": {},
   "outputs": [
    {
     "data": {
      "text/plain": [
       "2"
      ]
     },
     "execution_count": 16,
     "metadata": {},
     "output_type": "execute_result"
    }
   ],
   "source": [
    "torch.cuda.device_count()"
   ]
  },
  {
   "cell_type": "markdown",
   "id": "94dbbd02-d185-4889-bc19-b6d2036d7776",
   "metadata": {},
   "source": [
    "## Data Loaders"
   ]
  },
  {
   "cell_type": "code",
   "execution_count": 7,
   "id": "613a21ce-e3ac-4845-b2be-b9a54a48ea6e",
   "metadata": {},
   "outputs": [],
   "source": [
    "train_transforms = torchvision.transforms.Compose([\n",
    "    torchvision.transforms.RandomCrop(32, padding=4),\n",
    "    torchvision.transforms.RandomHorizontalFlip(),\n",
    "    torchvision.transforms.ToTensor(),\n",
    "    cifar10_normalization(),\n",
    "])\n",
    "\n",
    "test_transforms = torchvision.transforms.Compose([\n",
    "    torchvision.transforms.ToTensor(),\n",
    "    cifar10_normalization(),\n",
    "])\n",
    "\n",
    "cifar10_dm = CIFAR10DataModule(\n",
    "    data_dir=PATH_DATASETS,\n",
    "    batch_size=BATCH_SIZE,\n",
    "    num_workers=NUM_WORKERS,\n",
    "    train_transforms=train_transforms,\n",
    "    test_transforms=test_transforms,\n",
    "    #val_transforms=test_transforms,\n",
    ")"
   ]
  },
  {
   "cell_type": "code",
   "execution_count": 8,
   "id": "c1385d10-afb5-4f83-85ab-05ee609dd226",
   "metadata": {},
   "outputs": [],
   "source": [
    "def create_model():\n",
    "    model = torchvision.models.resnet18(pretrained=False, num_classes=10)\n",
    "    model.conv1 = nn.Conv2d(3, 64, kernel_size=(3, 3), stride=(1, 1), padding=(1, 1), bias=False)\n",
    "    model.maxpool = nn.Identity()\n",
    "    return model"
   ]
  },
  {
   "cell_type": "markdown",
   "id": "8e2ca2bc-fd8f-4b37-ad44-692e1b303e7d",
   "metadata": {},
   "source": [
    "## Create Lightning Module"
   ]
  },
  {
   "cell_type": "code",
   "execution_count": 9,
   "id": "e8ebf7d5-70a2-4370-8110-e0066e437263",
   "metadata": {},
   "outputs": [],
   "source": [
    "class LitResnet(LightningModule):\n",
    "\n",
    "    def __init__(self, lr=0.05):\n",
    "        super().__init__()\n",
    "\n",
    "        self.save_hyperparameters()\n",
    "        self.model = create_model()\n",
    "\n",
    "    def forward(self, x):\n",
    "        out = self.model(x)\n",
    "        return F.log_softmax(out, dim=1)\n",
    "\n",
    "    def training_step(self, batch, batch_idx):\n",
    "        x, y = batch\n",
    "        logits = self(x)\n",
    "        loss = F.nll_loss(logits, y)\n",
    "        self.log('train_loss', loss)\n",
    "        return loss\n",
    "\n",
    "    def evaluate(self, batch, stage=None):\n",
    "        x, y = batch\n",
    "        logits = self(x)\n",
    "        loss = F.nll_loss(logits, y)\n",
    "        preds = torch.argmax(logits, dim=1)\n",
    "        acc = accuracy(preds, y)\n",
    "\n",
    "        if stage:\n",
    "            self.log(f'{stage}_loss', loss, prog_bar=True)\n",
    "            self.log(f'{stage}_acc', acc, prog_bar=True)\n",
    "\n",
    "    def validation_step(self, batch, batch_idx):\n",
    "        self.evaluate(batch, 'val')\n",
    "\n",
    "    def test_step(self, batch, batch_idx):\n",
    "        self.evaluate(batch, 'test')\n",
    "\n",
    "    def configure_optimizers(self):\n",
    "        optimizer = torch.optim.SGD(\n",
    "            self.parameters(),\n",
    "            lr=self.hparams.lr,\n",
    "            momentum=0.9,\n",
    "            weight_decay=5e-4,\n",
    "        )\n",
    "        steps_per_epoch = 45000 // BATCH_SIZE\n",
    "        scheduler_dict = {\n",
    "            'scheduler': OneCycleLR(\n",
    "                optimizer,\n",
    "                0.1,\n",
    "                epochs=self.trainer.max_epochs,\n",
    "                steps_per_epoch=steps_per_epoch,\n",
    "            ),\n",
    "            'interval': 'step',\n",
    "        }\n",
    "        return {'optimizer': optimizer, 'lr_scheduler': scheduler_dict}"
   ]
  },
  {
   "cell_type": "markdown",
   "id": "bb20edeb-375f-4cfc-82ba-74789ab919a7",
   "metadata": {},
   "source": [
    "## Train Loop"
   ]
  },
  {
   "cell_type": "code",
   "execution_count": 15,
   "id": "5eb394b1-087f-448b-8852-44a4424017b1",
   "metadata": {},
   "outputs": [
    {
     "data": {
      "text/plain": [
       "1"
      ]
     },
     "execution_count": 15,
     "metadata": {},
     "output_type": "execute_result"
    }
   ],
   "source": [
    "AVAIL_GPUS"
   ]
  },
  {
   "cell_type": "code",
   "execution_count": 17,
   "id": "90d3b228-ff92-4a1e-81e8-d9f01de72988",
   "metadata": {
    "tags": []
   },
   "outputs": [
    {
     "name": "stderr",
     "output_type": "stream",
     "text": [
      "GPU available: True, used: True\n",
      "TPU available: False, using: 0 TPU cores\n",
      "IPU available: False, using: 0 IPUs\n",
      "/opt/conda/envs/computer_vision/lib/python3.8/site-packages/pytorch_lightning/core/datamodule.py:423: LightningDeprecationWarning: DataModule.setup has already been called, so it will not be called again. In v1.6 this behavior will change to always call DataModule.setup.\n",
      "  rank_zero_deprecation(\n",
      "LOCAL_RANK: 0 - CUDA_VISIBLE_DEVICES: [0,1]\n",
      "\n",
      "  | Name  | Type   | Params\n",
      "---------------------------------\n",
      "0 | model | ResNet | 11.2 M\n",
      "---------------------------------\n",
      "11.2 M    Trainable params\n",
      "0         Non-trainable params\n",
      "11.2 M    Total params\n",
      "44.696    Total estimated model params size (MB)\n"
     ]
    },
    {
     "name": "stdout",
     "output_type": "stream",
     "text": [
      "                                                              "
     ]
    },
    {
     "name": "stderr",
     "output_type": "stream",
     "text": [
      "Global seed set to 7\n"
     ]
    },
    {
     "name": "stdout",
     "output_type": "stream",
     "text": [
      "Epoch 0:  81%|████████  | 160/197 [00:11<00:02, 14.22it/s, loss=1.54, v_num=7]\n",
      "Validating: 0it [00:00, ?it/s]\u001b[A\n",
      "Validating:   0%|          | 0/40 [00:00<?, ?it/s]\u001b[A\n",
      "Epoch 0:  86%|████████▋ | 170/197 [00:12<00:01, 14.13it/s, loss=1.54, v_num=7]\n",
      "Epoch 0:  91%|█████████▏| 180/197 [00:12<00:01, 14.66it/s, loss=1.54, v_num=7]\n",
      "Epoch 0:  96%|█████████▋| 190/197 [00:12<00:00, 15.22it/s, loss=1.54, v_num=7]\n",
      "Epoch 0: 100%|██████████| 197/197 [00:12<00:00, 15.44it/s, loss=1.54, v_num=7, val_loss=3.350, val_acc=0.169]\n",
      "Epoch 1:  81%|████████  | 160/197 [00:12<00:02, 13.21it/s, loss=1.33, v_num=7, val_loss=3.350, val_acc=0.169] \n",
      "Validating: 0it [00:00, ?it/s]\u001b[A\n",
      "Validating:   0%|          | 0/40 [00:00<?, ?it/s]\u001b[A\n",
      "Epoch 1:  86%|████████▋ | 170/197 [00:12<00:02, 13.16it/s, loss=1.33, v_num=7, val_loss=3.350, val_acc=0.169]\n",
      "Epoch 1:  91%|█████████▏| 180/197 [00:13<00:01, 13.72it/s, loss=1.33, v_num=7, val_loss=3.350, val_acc=0.169]\n",
      "Epoch 1:  96%|█████████▋| 190/197 [00:13<00:00, 14.23it/s, loss=1.33, v_num=7, val_loss=3.350, val_acc=0.169]\n",
      "Epoch 1: 100%|██████████| 197/197 [00:13<00:00, 14.45it/s, loss=1.34, v_num=7, val_loss=4.540, val_acc=0.117]\n",
      "Epoch 2:  81%|████████  | 160/197 [00:12<00:02, 12.52it/s, loss=1.05, v_num=7, val_loss=4.540, val_acc=0.117] \n",
      "Validating: 0it [00:00, ?it/s]\u001b[A\n",
      "Epoch 21:  41%|████      | 80/197 [01:39<02:23,  1.23s/it, loss=0.204, v_num=6, val_loss=1.980, val_acc=0.460]\n",
      "\n",
      "Epoch 2:  86%|████████▋ | 170/197 [00:13<00:02, 12.40it/s, loss=1.05, v_num=7, val_loss=4.540, val_acc=0.117]\n",
      "Epoch 2:  91%|█████████▏| 180/197 [00:14<00:01, 12.92it/s, loss=1.05, v_num=7, val_loss=4.540, val_acc=0.117]\n",
      "Epoch 2:  96%|█████████▋| 190/197 [00:14<00:00, 13.42it/s, loss=1.05, v_num=7, val_loss=4.540, val_acc=0.117]\n",
      "Epoch 2: 100%|██████████| 197/197 [00:14<00:00, 13.65it/s, loss=1.03, v_num=7, val_loss=3.770, val_acc=0.187]\n",
      "Epoch 3:  81%|████████  | 160/197 [00:13<00:03, 12.26it/s, loss=0.901, v_num=7, val_loss=3.770, val_acc=0.187]\n",
      "Validating: 0it [00:00, ?it/s]\u001b[A\n",
      "Validating:   0%|          | 0/40 [00:00<?, ?it/s]\u001b[A\n",
      "Epoch 3:  86%|████████▋ | 170/197 [00:13<00:02, 12.27it/s, loss=0.901, v_num=7, val_loss=3.770, val_acc=0.187]\n",
      "Epoch 3:  91%|█████████▏| 180/197 [00:14<00:01, 12.79it/s, loss=0.901, v_num=7, val_loss=3.770, val_acc=0.187]\n",
      "Epoch 3:  96%|█████████▋| 190/197 [00:14<00:00, 13.27it/s, loss=0.901, v_num=7, val_loss=3.770, val_acc=0.187]\n",
      "Epoch 3: 100%|██████████| 197/197 [00:14<00:00, 13.46it/s, loss=0.908, v_num=7, val_loss=3.670, val_acc=0.154]\n",
      "Epoch 4:  81%|████████  | 160/197 [00:13<00:03, 11.51it/s, loss=0.718, v_num=7, val_loss=3.670, val_acc=0.154] \n",
      "Validating: 0it [00:00, ?it/s]\u001b[A\n",
      "Validating:   0%|          | 0/40 [00:00<?, ?it/s]\u001b[A\n",
      "Epoch 4:  86%|████████▋ | 170/197 [00:14<00:02, 11.59it/s, loss=0.718, v_num=7, val_loss=3.670, val_acc=0.154]\n",
      "Epoch 4:  91%|█████████▏| 180/197 [00:14<00:01, 12.08it/s, loss=0.718, v_num=7, val_loss=3.670, val_acc=0.154]\n",
      "Epoch 4:  96%|█████████▋| 190/197 [00:15<00:00, 12.55it/s, loss=0.718, v_num=7, val_loss=3.670, val_acc=0.154]\n",
      "Epoch 4: 100%|██████████| 197/197 [00:15<00:00, 12.75it/s, loss=0.704, v_num=7, val_loss=3.450, val_acc=0.227]\n",
      "Epoch 5:  81%|████████  | 160/197 [00:14<00:03, 11.14it/s, loss=0.705, v_num=7, val_loss=3.450, val_acc=0.227]\n",
      "Validating: 0it [00:00, ?it/s]\u001b[A\n",
      "Validating:   0%|          | 0/40 [00:00<?, ?it/s]\u001b[A\n",
      "Epoch 5:  86%|████████▋ | 170/197 [00:15<00:02, 11.19it/s, loss=0.705, v_num=7, val_loss=3.450, val_acc=0.227]\n",
      "Epoch 5:  91%|█████████▏| 180/197 [00:15<00:01, 11.64it/s, loss=0.705, v_num=7, val_loss=3.450, val_acc=0.227]\n",
      "Epoch 5:  96%|█████████▋| 190/197 [00:15<00:00, 12.10it/s, loss=0.705, v_num=7, val_loss=3.450, val_acc=0.227]\n",
      "Epoch 5: 100%|██████████| 197/197 [00:16<00:00, 12.30it/s, loss=0.74, v_num=7, val_loss=2.820, val_acc=0.247] \n",
      "Epoch 6:  81%|████████  | 160/197 [00:15<00:03, 10.38it/s, loss=0.606, v_num=7, val_loss=2.820, val_acc=0.247]\n",
      "Validating: 0it [00:00, ?it/s]\u001b[A\n",
      "Validating:   0%|          | 0/40 [00:00<?, ?it/s]\u001b[A\n",
      "Epoch 6:  86%|████████▋ | 170/197 [00:16<00:02, 10.43it/s, loss=0.606, v_num=7, val_loss=2.820, val_acc=0.247]\n",
      "Epoch 6:  91%|█████████▏| 180/197 [00:16<00:01, 10.87it/s, loss=0.606, v_num=7, val_loss=2.820, val_acc=0.247]\n",
      "Epoch 6:  96%|█████████▋| 190/197 [00:16<00:00, 11.31it/s, loss=0.606, v_num=7, val_loss=2.820, val_acc=0.247]\n",
      "Epoch 6: 100%|██████████| 197/197 [00:17<00:00, 11.49it/s, loss=0.6, v_num=7, val_loss=2.900, val_acc=0.187]  \n",
      "Epoch 7:  81%|████████  | 160/197 [00:15<00:03, 10.22it/s, loss=0.539, v_num=7, val_loss=2.900, val_acc=0.187]\n",
      "Validating: 0it [00:00, ?it/s]\u001b[A\n",
      "Validating:   0%|          | 0/40 [00:00<?, ?it/s]\u001b[A\n",
      "Epoch 7:  86%|████████▋ | 170/197 [00:16<00:02, 10.17it/s, loss=0.539, v_num=7, val_loss=2.900, val_acc=0.187]\n",
      "Epoch 7:  91%|█████████▏| 180/197 [00:17<00:01, 10.62it/s, loss=0.539, v_num=7, val_loss=2.900, val_acc=0.187]\n",
      "Epoch 7:  96%|█████████▋| 190/197 [00:17<00:00, 11.05it/s, loss=0.539, v_num=7, val_loss=2.900, val_acc=0.187]\n",
      "Epoch 7: 100%|██████████| 197/197 [00:17<00:00, 11.16it/s, loss=0.542, v_num=7, val_loss=2.430, val_acc=0.251]\n",
      "Epoch 8:  81%|████████  | 160/197 [00:16<00:03,  9.80it/s, loss=0.504, v_num=7, val_loss=2.430, val_acc=0.251]\n",
      "Validating: 0it [00:00, ?it/s]\u001b[A\n",
      "Validating:   0%|          | 0/40 [00:00<?, ?it/s]\u001b[A\n",
      "Epoch 8:  86%|████████▋ | 170/197 [00:17<00:02,  9.94it/s, loss=0.504, v_num=7, val_loss=2.430, val_acc=0.251]\n",
      "Epoch 8:  91%|█████████▏| 180/197 [00:17<00:01, 10.38it/s, loss=0.504, v_num=7, val_loss=2.430, val_acc=0.251]\n",
      "Epoch 8:  96%|█████████▋| 190/197 [00:17<00:00, 10.80it/s, loss=0.504, v_num=7, val_loss=2.430, val_acc=0.251]\n",
      "Epoch 8: 100%|██████████| 197/197 [00:18<00:00, 11.00it/s, loss=0.494, v_num=7, val_loss=2.320, val_acc=0.351]\n",
      "Epoch 9:  81%|████████  | 160/197 [00:15<00:03, 10.42it/s, loss=0.456, v_num=7, val_loss=2.320, val_acc=0.351] \n",
      "Validating: 0it [00:00, ?it/s]\u001b[A\n",
      "Validating:   0%|          | 0/40 [00:00<?, ?it/s]\u001b[A\n",
      "Epoch 9:  86%|████████▋ | 170/197 [00:16<00:02, 10.44it/s, loss=0.456, v_num=7, val_loss=2.320, val_acc=0.351]\n",
      "Epoch 9:  91%|█████████▏| 180/197 [00:16<00:01, 10.89it/s, loss=0.456, v_num=7, val_loss=2.320, val_acc=0.351]\n",
      "Epoch 9:  96%|█████████▋| 190/197 [00:16<00:00, 11.32it/s, loss=0.456, v_num=7, val_loss=2.320, val_acc=0.351]\n",
      "Epoch 9: 100%|██████████| 197/197 [00:17<00:00, 11.52it/s, loss=0.468, v_num=7, val_loss=2.330, val_acc=0.340]\n",
      "Epoch 10:  81%|████████  | 160/197 [00:16<00:03, 10.00it/s, loss=0.414, v_num=7, val_loss=2.330, val_acc=0.340]\n",
      "Validating: 0it [00:00, ?it/s]\u001b[A\n",
      "Validating:   0%|          | 0/40 [00:00<?, ?it/s]\u001b[A\n",
      "Epoch 10:  86%|████████▋ | 170/197 [00:16<00:02, 10.13it/s, loss=0.414, v_num=7, val_loss=2.330, val_acc=0.340]\n",
      "Epoch 10:  91%|█████████▏| 180/197 [00:17<00:01, 10.58it/s, loss=0.414, v_num=7, val_loss=2.330, val_acc=0.340]\n",
      "Epoch 10:  96%|█████████▋| 190/197 [00:17<00:00, 10.99it/s, loss=0.414, v_num=7, val_loss=2.330, val_acc=0.340]\n",
      "Epoch 10: 100%|██████████| 197/197 [00:17<00:00, 11.19it/s, loss=0.423, v_num=7, val_loss=2.150, val_acc=0.374]\n",
      "Epoch 11:  81%|████████  | 160/197 [00:16<00:03, 10.01it/s, loss=0.425, v_num=7, val_loss=2.150, val_acc=0.374] \n",
      "Validating: 0it [00:00, ?it/s]\u001b[A\n",
      "Validating:   0%|          | 0/40 [00:00<?, ?it/s]\u001b[A\n",
      "Epoch 11:  86%|████████▋ | 170/197 [00:16<00:02, 10.14it/s, loss=0.425, v_num=7, val_loss=2.150, val_acc=0.374]\n",
      "Epoch 11:  91%|█████████▏| 180/197 [00:17<00:01, 10.58it/s, loss=0.425, v_num=7, val_loss=2.150, val_acc=0.374]\n",
      "Epoch 11:  96%|█████████▋| 190/197 [00:17<00:00, 11.01it/s, loss=0.425, v_num=7, val_loss=2.150, val_acc=0.374]\n",
      "Epoch 11: 100%|██████████| 197/197 [00:17<00:00, 11.22it/s, loss=0.421, v_num=7, val_loss=2.380, val_acc=0.331]\n",
      "Epoch 12:  81%|████████  | 160/197 [00:16<00:03,  9.73it/s, loss=0.386, v_num=7, val_loss=2.380, val_acc=0.331]\n",
      "Validating: 0it [00:00, ?it/s]\u001b[A\n",
      "Validating:   0%|          | 0/40 [00:00<?, ?it/s]\u001b[A\n",
      "Epoch 12:  86%|████████▋ | 170/197 [00:17<00:02,  9.77it/s, loss=0.386, v_num=7, val_loss=2.380, val_acc=0.331]\n",
      "Epoch 12:  91%|█████████▏| 180/197 [00:17<00:01, 10.18it/s, loss=0.386, v_num=7, val_loss=2.380, val_acc=0.331]\n",
      "Epoch 12:  96%|█████████▋| 190/197 [00:18<00:00, 10.60it/s, loss=0.386, v_num=7, val_loss=2.380, val_acc=0.331]\n",
      "Epoch 12: 100%|██████████| 197/197 [00:18<00:00, 10.80it/s, loss=0.397, v_num=7, val_loss=3.380, val_acc=0.234]\n",
      "Epoch 13:  81%|████████  | 160/197 [00:17<00:03,  9.39it/s, loss=0.341, v_num=7, val_loss=3.380, val_acc=0.234] \n",
      "Validating: 0it [00:00, ?it/s]\u001b[A\n",
      "Validating:   0%|          | 0/40 [00:00<?, ?it/s]\u001b[A\n",
      "Epoch 13:  86%|████████▋ | 170/197 [00:18<00:02,  9.47it/s, loss=0.341, v_num=7, val_loss=3.380, val_acc=0.234]\n",
      "Epoch 13:  91%|█████████▏| 180/197 [00:18<00:01,  9.90it/s, loss=0.341, v_num=7, val_loss=3.380, val_acc=0.234]\n",
      "Epoch 13:  96%|█████████▋| 190/197 [00:18<00:00, 10.32it/s, loss=0.341, v_num=7, val_loss=3.380, val_acc=0.234]\n",
      "Epoch 13: 100%|██████████| 197/197 [00:18<00:00, 10.52it/s, loss=0.329, v_num=7, val_loss=2.340, val_acc=0.407]\n",
      "Epoch 14:  81%|████████  | 160/197 [00:17<00:04,  9.17it/s, loss=0.33, v_num=7, val_loss=2.340, val_acc=0.407]  \n",
      "Validating: 0it [00:00, ?it/s]\u001b[A\n",
      "Validating:   0%|          | 0/40 [00:00<?, ?it/s]\u001b[A\n",
      "Epoch 14:  86%|████████▋ | 170/197 [00:18<00:02,  9.34it/s, loss=0.33, v_num=7, val_loss=2.340, val_acc=0.407]\n",
      "Epoch 14:  91%|█████████▏| 180/197 [00:18<00:01,  9.75it/s, loss=0.33, v_num=7, val_loss=2.340, val_acc=0.407]\n",
      "Epoch 14:  96%|█████████▋| 190/197 [00:18<00:00, 10.16it/s, loss=0.33, v_num=7, val_loss=2.340, val_acc=0.407]\n",
      "Epoch 14: 100%|██████████| 197/197 [00:19<00:00, 10.35it/s, loss=0.317, v_num=7, val_loss=2.600, val_acc=0.343]\n",
      "Epoch 15:  81%|████████  | 160/197 [00:17<00:04,  9.01it/s, loss=0.294, v_num=7, val_loss=2.600, val_acc=0.343] \n",
      "Validating: 0it [00:00, ?it/s]\u001b[A\n",
      "Validating:   0%|          | 0/40 [00:00<?, ?it/s]\u001b[A\n",
      "Epoch 15:  86%|████████▋ | 170/197 [00:18<00:02,  9.14it/s, loss=0.294, v_num=7, val_loss=2.600, val_acc=0.343]\n",
      "Epoch 15:  91%|█████████▏| 180/197 [00:18<00:01,  9.55it/s, loss=0.294, v_num=7, val_loss=2.600, val_acc=0.343]\n",
      "Epoch 15:  96%|█████████▋| 190/197 [00:19<00:00,  9.95it/s, loss=0.294, v_num=7, val_loss=2.600, val_acc=0.343]\n",
      "Epoch 15: 100%|██████████| 197/197 [00:19<00:00, 10.14it/s, loss=0.299, v_num=7, val_loss=2.470, val_acc=0.353]\n",
      "Epoch 16:  81%|████████  | 160/197 [00:16<00:03,  9.63it/s, loss=0.285, v_num=7, val_loss=2.470, val_acc=0.353] \n",
      "Validating: 0it [00:00, ?it/s]\u001b[A\n",
      "Validating:   0%|          | 0/40 [00:00<?, ?it/s]\u001b[A\n",
      "Epoch 16:  86%|████████▋ | 170/197 [00:17<00:02,  9.76it/s, loss=0.285, v_num=7, val_loss=2.470, val_acc=0.353]\n",
      "Epoch 16:  91%|█████████▏| 180/197 [00:17<00:01, 10.18it/s, loss=0.285, v_num=7, val_loss=2.470, val_acc=0.353]\n",
      "Epoch 16:  96%|█████████▋| 190/197 [00:18<00:00, 10.60it/s, loss=0.285, v_num=7, val_loss=2.470, val_acc=0.353]\n",
      "Epoch 16: 100%|██████████| 197/197 [00:18<00:00, 10.81it/s, loss=0.281, v_num=7, val_loss=2.110, val_acc=0.418]\n",
      "Epoch 17:  81%|████████  | 160/197 [00:17<00:03,  9.42it/s, loss=0.284, v_num=7, val_loss=2.110, val_acc=0.418] \n",
      "Validating: 0it [00:00, ?it/s]\u001b[A\n",
      "Validating:   0%|          | 0/40 [00:00<?, ?it/s]\u001b[A\n",
      "Epoch 17:  86%|████████▋ | 170/197 [00:17<00:02,  9.54it/s, loss=0.284, v_num=7, val_loss=2.110, val_acc=0.418]\n",
      "Epoch 17:  91%|█████████▏| 180/197 [00:18<00:01,  9.95it/s, loss=0.284, v_num=7, val_loss=2.110, val_acc=0.418]\n",
      "Epoch 17:  96%|█████████▋| 190/197 [00:18<00:00, 10.37it/s, loss=0.284, v_num=7, val_loss=2.110, val_acc=0.418]\n",
      "Epoch 17: 100%|██████████| 197/197 [00:18<00:00, 10.56it/s, loss=0.285, v_num=7, val_loss=1.880, val_acc=0.448]\n",
      "Epoch 18:  81%|████████  | 160/197 [00:17<00:04,  9.14it/s, loss=0.253, v_num=7, val_loss=1.880, val_acc=0.448] \n",
      "Validating: 0it [00:00, ?it/s]\u001b[A\n",
      "Validating:   0%|          | 0/40 [00:00<?, ?it/s]\u001b[A\n",
      "Epoch 18:  86%|████████▋ | 170/197 [00:18<00:02,  9.27it/s, loss=0.253, v_num=7, val_loss=1.880, val_acc=0.448]\n",
      "Epoch 18:  91%|█████████▏| 180/197 [00:18<00:01,  9.67it/s, loss=0.253, v_num=7, val_loss=1.880, val_acc=0.448]\n",
      "Epoch 18:  96%|█████████▋| 190/197 [00:18<00:00, 10.08it/s, loss=0.253, v_num=7, val_loss=1.880, val_acc=0.448]\n",
      "Epoch 18: 100%|██████████| 197/197 [00:19<00:00, 10.27it/s, loss=0.271, v_num=7, val_loss=3.360, val_acc=0.302]\n",
      "Epoch 19:  81%|████████  | 160/197 [00:18<00:04,  8.93it/s, loss=0.252, v_num=7, val_loss=3.360, val_acc=0.302]\n",
      "Validating: 0it [00:00, ?it/s]\u001b[A\n",
      "Validating:   0%|          | 0/40 [00:00<?, ?it/s]\u001b[A\n",
      "Epoch 19:  86%|████████▋ | 170/197 [00:18<00:02,  9.05it/s, loss=0.252, v_num=7, val_loss=3.360, val_acc=0.302]\n",
      "Epoch 19:  91%|█████████▏| 180/197 [00:19<00:01,  9.46it/s, loss=0.252, v_num=7, val_loss=3.360, val_acc=0.302]\n",
      "Epoch 19:  96%|█████████▋| 190/197 [00:19<00:00,  9.86it/s, loss=0.252, v_num=7, val_loss=3.360, val_acc=0.302]\n",
      "Epoch 19: 100%|██████████| 197/197 [00:19<00:00, 10.05it/s, loss=0.253, v_num=7, val_loss=3.130, val_acc=0.311]\n",
      "Epoch 20:  81%|████████  | 160/197 [00:18<00:04,  8.93it/s, loss=0.214, v_num=7, val_loss=3.130, val_acc=0.311] \n",
      "Validating: 0it [00:00, ?it/s]\u001b[A\n",
      "Validating:   0%|          | 0/40 [00:00<?, ?it/s]\u001b[A\n",
      "Epoch 20:  86%|████████▋ | 170/197 [00:18<00:02,  9.02it/s, loss=0.214, v_num=7, val_loss=3.130, val_acc=0.311]\n",
      "Epoch 20:  91%|█████████▏| 180/197 [00:19<00:01,  9.42it/s, loss=0.214, v_num=7, val_loss=3.130, val_acc=0.311]\n",
      "Epoch 20:  96%|█████████▋| 190/197 [00:19<00:00,  9.82it/s, loss=0.214, v_num=7, val_loss=3.130, val_acc=0.311]\n",
      "Epoch 20: 100%|██████████| 197/197 [00:19<00:00,  9.99it/s, loss=0.224, v_num=7, val_loss=2.050, val_acc=0.466]\n",
      "Epoch 21:  81%|████████  | 160/197 [00:18<00:04,  8.93it/s, loss=0.213, v_num=7, val_loss=2.050, val_acc=0.466]\n",
      "Validating: 0it [00:00, ?it/s]\u001b[A\n",
      "Validating:   0%|          | 0/40 [00:00<?, ?it/s]\u001b[A\n",
      "Epoch 21:  86%|████████▋ | 170/197 [00:18<00:02,  9.09it/s, loss=0.213, v_num=7, val_loss=2.050, val_acc=0.466]\n",
      "Epoch 21:  91%|█████████▏| 180/197 [00:19<00:01,  9.50it/s, loss=0.213, v_num=7, val_loss=2.050, val_acc=0.466]\n",
      "Epoch 21:  96%|█████████▋| 190/197 [00:19<00:00,  9.90it/s, loss=0.213, v_num=7, val_loss=2.050, val_acc=0.466]\n",
      "Epoch 21: 100%|██████████| 197/197 [00:19<00:00, 10.09it/s, loss=0.212, v_num=7, val_loss=2.270, val_acc=0.410]\n",
      "Epoch 22:  81%|████████  | 160/197 [00:17<00:04,  9.10it/s, loss=0.201, v_num=7, val_loss=2.270, val_acc=0.410]\n",
      "Validating: 0it [00:00, ?it/s]\u001b[A\n",
      "Validating:   0%|          | 0/40 [00:00<?, ?it/s]\u001b[A\n",
      "Epoch 22:  86%|████████▋ | 170/197 [00:18<00:02,  9.25it/s, loss=0.201, v_num=7, val_loss=2.270, val_acc=0.410]\n",
      "Epoch 22:  91%|█████████▏| 180/197 [00:18<00:01,  9.64it/s, loss=0.201, v_num=7, val_loss=2.270, val_acc=0.410]\n",
      "Epoch 22:  96%|█████████▋| 190/197 [00:19<00:00, 10.04it/s, loss=0.201, v_num=7, val_loss=2.270, val_acc=0.410]\n",
      "Epoch 22: 100%|██████████| 197/197 [00:19<00:00, 10.25it/s, loss=0.214, v_num=7, val_loss=2.830, val_acc=0.415]\n",
      "Epoch 23:  81%|████████  | 160/197 [00:18<00:04,  8.77it/s, loss=0.176, v_num=7, val_loss=2.830, val_acc=0.415] \n",
      "Validating: 0it [00:00, ?it/s]\u001b[A\n",
      "Validating:   0%|          | 0/40 [00:00<?, ?it/s]\u001b[A\n",
      "Epoch 23:  86%|████████▋ | 170/197 [00:19<00:03,  8.90it/s, loss=0.176, v_num=7, val_loss=2.830, val_acc=0.415]\n",
      "Epoch 23:  91%|█████████▏| 180/197 [00:19<00:01,  9.30it/s, loss=0.176, v_num=7, val_loss=2.830, val_acc=0.415]\n",
      "Epoch 23:  96%|█████████▋| 190/197 [00:19<00:00,  9.71it/s, loss=0.176, v_num=7, val_loss=2.830, val_acc=0.415]\n",
      "Epoch 23: 100%|██████████| 197/197 [00:19<00:00,  9.91it/s, loss=0.18, v_num=7, val_loss=2.020, val_acc=0.495] \n",
      "Epoch 24:  81%|████████  | 160/197 [00:17<00:04,  8.96it/s, loss=0.144, v_num=7, val_loss=2.020, val_acc=0.495]\n",
      "Validating: 0it [00:00, ?it/s]\u001b[A\n",
      "Validating:   0%|          | 0/40 [00:00<?, ?it/s]\u001b[A\n",
      "Epoch 24:  86%|████████▋ | 170/197 [00:18<00:02,  9.08it/s, loss=0.144, v_num=7, val_loss=2.020, val_acc=0.495]\n",
      "Epoch 24:  91%|█████████▏| 180/197 [00:19<00:01,  9.48it/s, loss=0.144, v_num=7, val_loss=2.020, val_acc=0.495]\n",
      "Epoch 24:  96%|█████████▋| 190/197 [00:19<00:00,  9.87it/s, loss=0.144, v_num=7, val_loss=2.020, val_acc=0.495]\n",
      "Epoch 24: 100%|██████████| 197/197 [00:19<00:00, 10.06it/s, loss=0.165, v_num=7, val_loss=2.410, val_acc=0.470]\n",
      "Epoch 25:  81%|████████  | 160/197 [00:18<00:04,  8.76it/s, loss=0.133, v_num=7, val_loss=2.410, val_acc=0.470] \n",
      "Validating: 0it [00:00, ?it/s]\u001b[A\n",
      "Validating:   0%|          | 0/40 [00:00<?, ?it/s]\u001b[A\n",
      "Epoch 25:  86%|████████▋ | 170/197 [00:19<00:03,  8.87it/s, loss=0.133, v_num=7, val_loss=2.410, val_acc=0.470]\n",
      "Epoch 25:  91%|█████████▏| 180/197 [00:19<00:01,  9.26it/s, loss=0.133, v_num=7, val_loss=2.410, val_acc=0.470]\n",
      "Epoch 25:  96%|█████████▋| 190/197 [00:19<00:00,  9.66it/s, loss=0.133, v_num=7, val_loss=2.410, val_acc=0.470]\n",
      "Epoch 25: 100%|██████████| 197/197 [00:20<00:00,  9.79it/s, loss=0.124, v_num=7, val_loss=2.570, val_acc=0.427]\n",
      "Epoch 26:  81%|████████  | 160/197 [00:18<00:04,  8.75it/s, loss=0.105, v_num=7, val_loss=2.570, val_acc=0.427] \n",
      "Validating: 0it [00:00, ?it/s]\u001b[A\n",
      "Validating:   0%|          | 0/40 [00:00<?, ?it/s]\u001b[A\n",
      "Epoch 26:  86%|████████▋ | 170/197 [00:19<00:03,  8.87it/s, loss=0.105, v_num=7, val_loss=2.570, val_acc=0.427]\n",
      "Epoch 26:  91%|█████████▏| 180/197 [00:19<00:01,  9.26it/s, loss=0.105, v_num=7, val_loss=2.570, val_acc=0.427]\n",
      "Epoch 26:  96%|█████████▋| 190/197 [00:19<00:00,  9.66it/s, loss=0.105, v_num=7, val_loss=2.570, val_acc=0.427]\n",
      "Epoch 26: 100%|██████████| 197/197 [00:20<00:00,  9.82it/s, loss=0.111, v_num=7, val_loss=2.310, val_acc=0.458]\n",
      "Epoch 27:  81%|████████  | 160/197 [00:17<00:04,  8.99it/s, loss=0.0859, v_num=7, val_loss=2.310, val_acc=0.458]\n",
      "Validating: 0it [00:00, ?it/s]\u001b[A\n",
      "Validating:   0%|          | 0/40 [00:00<?, ?it/s]\u001b[A\n",
      "Epoch 27:  86%|████████▋ | 170/197 [00:18<00:02,  9.06it/s, loss=0.0859, v_num=7, val_loss=2.310, val_acc=0.458]\n",
      "Epoch 27:  91%|█████████▏| 180/197 [00:19<00:01,  9.46it/s, loss=0.0859, v_num=7, val_loss=2.310, val_acc=0.458]\n",
      "Epoch 27:  96%|█████████▋| 190/197 [00:19<00:00,  9.86it/s, loss=0.0859, v_num=7, val_loss=2.310, val_acc=0.458]\n",
      "Epoch 27: 100%|██████████| 197/197 [00:19<00:00, 10.05it/s, loss=0.0838, v_num=7, val_loss=1.970, val_acc=0.567]\n",
      "Epoch 28:  81%|████████  | 160/197 [00:17<00:04,  9.09it/s, loss=0.0607, v_num=7, val_loss=1.970, val_acc=0.567]\n",
      "Validating: 0it [00:00, ?it/s]\u001b[A\n",
      "Validating:   0%|          | 0/40 [00:00<?, ?it/s]\u001b[A\n",
      "Epoch 28:  86%|████████▋ | 170/197 [00:18<00:02,  9.25it/s, loss=0.0607, v_num=7, val_loss=1.970, val_acc=0.567]\n",
      "Epoch 28:  91%|█████████▏| 180/197 [00:18<00:01,  9.66it/s, loss=0.0607, v_num=7, val_loss=1.970, val_acc=0.567]\n",
      "Epoch 28:  96%|█████████▋| 190/197 [00:18<00:00, 10.08it/s, loss=0.0607, v_num=7, val_loss=1.970, val_acc=0.567]\n",
      "Epoch 28: 100%|██████████| 197/197 [00:19<00:00, 10.28it/s, loss=0.0652, v_num=7, val_loss=1.840, val_acc=0.563]\n",
      "Epoch 29:  81%|████████  | 160/197 [00:18<00:04,  8.94it/s, loss=0.0462, v_num=7, val_loss=1.840, val_acc=0.563] \n",
      "Validating: 0it [00:00, ?it/s]\u001b[A\n",
      "Validating:   0%|          | 0/40 [00:00<?, ?it/s]\u001b[A\n",
      "Epoch 29:  86%|████████▋ | 170/197 [00:18<00:02,  9.09it/s, loss=0.0462, v_num=7, val_loss=1.840, val_acc=0.563]\n",
      "Epoch 29:  91%|█████████▏| 180/197 [00:19<00:01,  9.42it/s, loss=0.0462, v_num=7, val_loss=1.840, val_acc=0.563]\n",
      "Epoch 29:  96%|█████████▋| 190/197 [00:19<00:00,  9.82it/s, loss=0.0462, v_num=7, val_loss=1.840, val_acc=0.563]\n",
      "Epoch 29: 100%|██████████| 197/197 [00:19<00:00, 10.02it/s, loss=0.0518, v_num=7, val_loss=1.910, val_acc=0.545]\n",
      "Epoch 29: 100%|██████████| 197/197 [00:19<00:00,  9.94it/s, loss=0.0518, v_num=7, val_loss=1.910, val_acc=0.545]"
     ]
    },
    {
     "name": "stderr",
     "output_type": "stream",
     "text": [
      "/opt/conda/envs/computer_vision/lib/python3.8/site-packages/pytorch_lightning/core/datamodule.py:423: LightningDeprecationWarning: DataModule.teardown has already been called, so it will not be called again. In v1.6 this behavior will change to always call DataModule.teardown.\n",
      "  rank_zero_deprecation(\n",
      "/opt/conda/envs/computer_vision/lib/python3.8/site-packages/pytorch_lightning/core/datamodule.py:423: LightningDeprecationWarning: DataModule.setup has already been called, so it will not be called again. In v1.6 this behavior will change to always call DataModule.setup.\n",
      "  rank_zero_deprecation(\n",
      "LOCAL_RANK: 0 - CUDA_VISIBLE_DEVICES: [0,1]\n"
     ]
    },
    {
     "name": "stdout",
     "output_type": "stream",
     "text": [
      "\n",
      "Testing: 100%|██████████| 40/40 [00:01<00:00, 33.57it/s]--------------------------------------------------------------------------------\n",
      "DATALOADER:0 TEST RESULTS\n",
      "{'test_acc': 0.9200999736785889, 'test_loss': 0.2666110694408417}\n",
      "--------------------------------------------------------------------------------\n",
      "Testing: 100%|██████████| 40/40 [00:01<00:00, 25.60it/s]\n"
     ]
    },
    {
     "name": "stderr",
     "output_type": "stream",
     "text": [
      "/opt/conda/envs/computer_vision/lib/python3.8/site-packages/pytorch_lightning/core/datamodule.py:423: LightningDeprecationWarning: DataModule.teardown has already been called, so it will not be called again. In v1.6 this behavior will change to always call DataModule.teardown.\n",
      "  rank_zero_deprecation(\n"
     ]
    },
    {
     "data": {
      "text/plain": [
       "[{'test_loss': 0.2666110694408417, 'test_acc': 0.9200999736785889}]"
      ]
     },
     "execution_count": 17,
     "metadata": {},
     "output_type": "execute_result"
    }
   ],
   "source": [
    "model = LitResnet(lr=0.05)\n",
    "model.datamodule = cifar10_dm\n",
    "\n",
    "trainer = Trainer(\n",
    "    progress_bar_refresh_rate=10,\n",
    "    max_epochs=30,\n",
    "    #gpus=AVAIL_GPUS,\n",
    "    gpus=[0,1],\n",
    "    accelerator='dp',\n",
    "    logger=TensorBoardLogger('lightning_logs/', name='resnet'),\n",
    "    callbacks=[LearningRateMonitor(logging_interval='step')],\n",
    ")\n",
    "\n",
    "trainer.fit(model, cifar10_dm)\n",
    "trainer.test(model, datamodule=cifar10_dm)"
   ]
  },
  {
   "cell_type": "code",
   "execution_count": null,
   "id": "39fe0d48-c056-4d12-9b04-ee1c3970c074",
   "metadata": {},
   "outputs": [],
   "source": []
  }
 ],
 "metadata": {
  "kernelspec": {
   "display_name": "Python [conda env:computer_vision]",
   "language": "python",
   "name": "conda-env-computer_vision-py"
  },
  "language_info": {
   "codemirror_mode": {
    "name": "ipython",
    "version": 3
   },
   "file_extension": ".py",
   "mimetype": "text/x-python",
   "name": "python",
   "nbconvert_exporter": "python",
   "pygments_lexer": "ipython3",
   "version": "3.8.12"
  }
 },
 "nbformat": 4,
 "nbformat_minor": 5
}
