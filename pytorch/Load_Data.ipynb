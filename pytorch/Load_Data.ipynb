{
 "cells": [
  {
   "cell_type": "markdown",
   "id": "1cc6b34b-4ff7-4b5b-9159-3388e3e85ea8",
   "metadata": {},
   "source": [
    "# Download Datasets and Transfer to Minio"
   ]
  },
  {
   "cell_type": "code",
   "execution_count": 1,
   "id": "e2356376-04f3-4d02-aec4-91e1ade70bbb",
   "metadata": {},
   "outputs": [],
   "source": [
    "from torchvision.datasets import CIFAR100"
   ]
  },
  {
   "cell_type": "code",
   "execution_count": 7,
   "id": "00b31f7d-4b58-4fc5-a2bd-627a26e41689",
   "metadata": {},
   "outputs": [],
   "source": [
    "from minio import Minio\n",
    "import os"
   ]
  },
  {
   "cell_type": "markdown",
   "id": "fbc35f1c-55b4-48c6-a523-bc4f14b3086f",
   "metadata": {},
   "source": [
    "## Setup Minio"
   ]
  },
  {
   "cell_type": "code",
   "execution_count": 10,
   "id": "5eeec086-c87b-4116-8862-31dccc30c4ec",
   "metadata": {},
   "outputs": [],
   "source": [
    "minio_path = os.environ['MINIO_ENDPOINT'] + ':' + os.environ['MINIO_PORT']\n",
    "\n",
    "\n",
    "client = Minio(\n",
    "            minio_path,\n",
    "            access_key=os.environ['MINIO_USER'],\n",
    "            secret_key=os.environ['MINIO_PASS'],\n",
    "            secure=False\n",
    "        )"
   ]
  },
  {
   "cell_type": "code",
   "execution_count": 11,
   "id": "eec2e81d-f872-42b2-b323-70f73c59c95d",
   "metadata": {},
   "outputs": [
    {
     "data": {
      "text/plain": [
       "[Bucket('datasets'), Bucket('dl-logs'), Bucket('mlflow'), Bucket('spark-jars')]"
      ]
     },
     "execution_count": 11,
     "metadata": {},
     "output_type": "execute_result"
    }
   ],
   "source": [
    "client.list_buckets()"
   ]
  },
  {
   "cell_type": "markdown",
   "id": "7ed2d6fe-fc95-4f14-87ab-0a2e73f9951a",
   "metadata": {},
   "source": [
    "### Download"
   ]
  },
  {
   "cell_type": "code",
   "execution_count": 2,
   "id": "f90dda7b-f7f7-493e-8e26-ad8989735c5c",
   "metadata": {
    "tags": []
   },
   "outputs": [
    {
     "name": "stdout",
     "output_type": "stream",
     "text": [
      "Files already downloaded and verified\n"
     ]
    }
   ],
   "source": [
    "cifar100_ds = CIFAR100(root='./cifar100',download=True) "
   ]
  },
  {
   "cell_type": "code",
   "execution_count": null,
   "id": "db3765ae-9cd4-4827-b5d0-d5c9741c74dd",
   "metadata": {},
   "outputs": [],
   "source": []
  },
  {
   "cell_type": "code",
   "execution_count": 16,
   "id": "f51a34a5-540c-499d-a96c-d7c658a6596b",
   "metadata": {},
   "outputs": [
    {
     "data": {
      "text/plain": [
       "['test', 'meta', 'train', 'file.txt~']"
      ]
     },
     "execution_count": 16,
     "metadata": {},
     "output_type": "execute_result"
    }
   ],
   "source": [
    "# get the list of files\n",
    "os.listdir('./cifar100/cifar-100-python')"
   ]
  },
  {
   "cell_type": "code",
   "execution_count": 18,
   "id": "ffbb349c-e1be-4466-8dfd-db4e8a20de9d",
   "metadata": {},
   "outputs": [],
   "source": [
    "for item in os.listdir('./cifar100/cifar-100-python'):\n",
    "    client.fput_object(bucket_name=\"datasets\", \n",
    "                       object_name=os.path.join(\"cifar100\", item),\n",
    "                       file_path=os.path.join('./cifar100/cifar-100-python',item))"
   ]
  },
  {
   "cell_type": "code",
   "execution_count": 21,
   "id": "27e7bc01-435a-476d-a958-0b3253d7823f",
   "metadata": {},
   "outputs": [
    {
     "name": "stdout",
     "output_type": "stream",
     "text": [
      "datasets b'cifar100/file.txt~' 2021-11-17 12:47:59.782000+00:00 d41d8cd98f00b204e9800998ecf8427e 0 None\n",
      "datasets b'cifar100/meta' 2021-11-17 12:47:59.494000+00:00 7973b15100ade9c7d40fb424638fde48 1473 None\n",
      "datasets b'cifar100/test' 2021-11-17 12:47:59.470000+00:00 f001798bc373a21a683f1dbab7696c04-6 31049707 None\n",
      "datasets b'cifar100/train' 2021-11-17 12:47:59.738000+00:00 b9e6ee51067ad472f69e7207252113d5-30 155249918 None\n"
     ]
    }
   ],
   "source": [
    "for obj in client.list_objects(\"datasets\", prefix='cifar100', recursive=True):\n",
    "    print(obj.bucket_name, obj.object_name.encode('utf-8'), obj.last_modified,\n",
    "          obj.etag, obj.size, obj.content_type)"
   ]
  },
  {
   "cell_type": "code",
   "execution_count": null,
   "id": "9300be2d-cea0-4a09-8488-7b18e977234a",
   "metadata": {},
   "outputs": [],
   "source": []
  }
 ],
 "metadata": {
  "kernelspec": {
   "display_name": "Python [conda env:computer_vision]",
   "language": "python",
   "name": "conda-env-computer_vision-py"
  },
  "language_info": {
   "codemirror_mode": {
    "name": "ipython",
    "version": 3
   },
   "file_extension": ".py",
   "mimetype": "text/x-python",
   "name": "python",
   "nbconvert_exporter": "python",
   "pygments_lexer": "ipython3",
   "version": "3.8.12"
  }
 },
 "nbformat": 4,
 "nbformat_minor": 5
}
